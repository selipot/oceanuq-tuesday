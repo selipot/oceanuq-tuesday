{
 "cells": [
  {
   "cell_type": "code",
   "execution_count": 1,
   "metadata": {},
   "outputs": [],
   "source": [
    "import argparse\n",
    "import base64\n",
    "import boto3\n",
    "import json\n",
    "import requests"
   ]
  },
  {
   "cell_type": "code",
   "execution_count": 2,
   "metadata": {},
   "outputs": [],
   "source": [
    "def retrieve_credentials(event):\n",
    "    \"\"\"Makes the Oauth calls to authenticate with EDS and return a set of s3\n",
    "    same-region, read-only credntials.\n",
    "    \"\"\"\n",
    "    login_resp = requests.get(\n",
    "        event['s3_endpoint'], allow_redirects=False\n",
    "    )\n",
    "    login_resp.raise_for_status()\n",
    "\n",
    "    auth = f\"{event['edl_username']}:{event['edl_password']}\"\n",
    "    encoded_auth  = base64.b64encode(auth.encode('ascii'))\n",
    "\n",
    "    auth_redirect = requests.post(\n",
    "        login_resp.headers['location'],\n",
    "        data = {\"credentials\": encoded_auth},\n",
    "        headers= { \"Origin\": event['s3_endpoint'] },\n",
    "        allow_redirects=False\n",
    "    )\n",
    "    auth_redirect.raise_for_status()\n",
    "\n",
    "    final = requests.get(auth_redirect.headers['location'], allow_redirects=False)\n",
    "\n",
    "    results = requests.get(event['s3_endpoint'], cookies={'accessToken': final.cookies['accessToken']})\n",
    "    results.raise_for_status()\n",
    "\n",
    "    return json.loads(results.content)\n",
    "\n",
    "\n",
    "\n",
    "def lambda_handler(event, context):\n",
    "\n",
    "    creds = retrieve_credentials(event)\n",
    "    bucket = event['bucket_name']\n",
    "\n",
    "    # create client with temporary credentials\n",
    "    client = boto3.client(\n",
    "        's3',\n",
    "        aws_access_key_id=creds[\"accessKeyId\"],\n",
    "        aws_secret_access_key=creds[\"secretAccessKey\"],\n",
    "        aws_session_token=creds[\"sessionToken\"]\n",
    "    )\n",
    "    # use the client for readonly access.\n",
    "    response = client.list_objects_v2(Bucket=bucket, Prefix=\"\")\n",
    "\n",
    "    return {\n",
    "        'statusCode': 200,\n",
    "        'body': json.dumps([r[\"Key\"] for r in response['Contents']])\n",
    "    }"
   ]
  },
  {
   "cell_type": "code",
   "execution_count": null,
   "metadata": {},
   "outputs": [],
   "source": []
  }
 ],
 "metadata": {
  "kernelspec": {
   "display_name": "oceanuq-wednesday",
   "language": "python",
   "name": "python3"
  },
  "language_info": {
   "codemirror_mode": {
    "name": "ipython",
    "version": 3
   },
   "file_extension": ".py",
   "mimetype": "text/x-python",
   "name": "python",
   "nbconvert_exporter": "python",
   "pygments_lexer": "ipython3",
   "version": "3.12.3"
  }
 },
 "nbformat": 4,
 "nbformat_minor": 2
}
